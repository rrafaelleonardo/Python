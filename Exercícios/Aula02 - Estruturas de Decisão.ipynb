{
 "cells": [
  {
   "cell_type": "code",
   "execution_count": 2,
   "id": "f088e18c",
   "metadata": {},
   "outputs": [
    {
     "name": "stdout",
     "output_type": "stream",
     "text": [
      "Aprovado\n",
      "Parabéns!\n"
     ]
    }
   ],
   "source": [
    "nota = 7\n",
    "if nota >= 7:\n",
    "    print(\"Aprovado\")\n",
    "    print(\"Parabéns!\")\n",
    "else:\n",
    "    print(\"Reprovado\")"
   ]
  },
  {
   "cell_type": "code",
   "execution_count": 4,
   "id": "044b60e3",
   "metadata": {},
   "outputs": [
    {
     "name": "stdout",
     "output_type": "stream",
     "text": [
      "Reprovado\n"
     ]
    }
   ],
   "source": [
    "nota = 5\n",
    "if nota >= 7:\n",
    "    print(\"Aprovado\")\n",
    "    print(\"Parabéns!\")\n",
    "else:\n",
    "    print(\"Reprovado\")"
   ]
  },
  {
   "cell_type": "code",
   "execution_count": null,
   "id": "943337fa",
   "metadata": {},
   "outputs": [],
   "source": [
    "#Testar con 4, 5 e 7\n",
    "nota = 7\n",
    "if nota <= 4:\n",
    "---xprint(\"Reprovado\")\n",
    "\n",
    "elif nota > 4 and nota <= 6:\n",
    "   print(\"Exame\")\n",
    "else\n",
    "---xprint(\"Aprovado\")"
   ]
  }
 ],
 "metadata": {
  "kernelspec": {
   "display_name": "begin-python",
   "language": "python",
   "name": "begin-python"
  },
  "language_info": {
   "codemirror_mode": {
    "name": "ipython",
    "version": 3
   },
   "file_extension": ".py",
   "mimetype": "text/x-python",
   "name": "python",
   "nbconvert_exporter": "python",
   "pygments_lexer": "ipython3",
   "version": "3.10.4"
  }
 },
 "nbformat": 4,
 "nbformat_minor": 5
}
