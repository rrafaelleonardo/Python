{
 "cells": [
  {
   "cell_type": "markdown",
   "id": "870afe1f",
   "metadata": {},
   "source": [
    "## Instalar a biblioteca NUMPY (no terminal)\n",
    "\n",
    "pip install numpy"
   ]
  },
  {
   "cell_type": "code",
   "execution_count": 60,
   "id": "5ea046e3",
   "metadata": {},
   "outputs": [],
   "source": [
    "#Importar Biblioteca\n",
    "import numpy as np"
   ]
  },
  {
   "cell_type": "markdown",
   "id": "6a33db32",
   "metadata": {},
   "source": [
    "#Cria uma matriz unidimensional\n",
    "mt = np.array([12,34,26,18,10])\n",
    "\n",
    "print(\"-------\")\n",
    "\n",
    "print(mt)\n",
    "\n",
    "print(\"-------\")\n",
    "\n",
    "print(type(mt))"
   ]
  },
  {
   "cell_type": "code",
   "execution_count": 61,
   "id": "106a8874",
   "metadata": {},
   "outputs": [
    {
     "name": "stdout",
     "output_type": "stream",
     "text": [
      "[1. 2. 3.]\n",
      "-------\n",
      "<class 'numpy.ndarray'>\n",
      "-------\n",
      "[1 2 3]\n",
      "-------\n",
      "<class 'numpy.ndarray'>\n"
     ]
    }
   ],
   "source": [
    "#Criar o array com um tipo especifico\n",
    "#criar o array como float de 64 bits\n",
    "mtfloat = np.array([1, 2, 3], dtype = np.float64)\n",
    "print (mtfloat)\n",
    "\n",
    "print(\"-------\")\n",
    "\n",
    "print(type(mtfloat))\n",
    "\n",
    "print(\"-------\")\n",
    "\n",
    "mtint = np.array([1, 2, 3], dtype = np.int32)\n",
    "print (mtint)\n",
    "\n",
    "print(\"-------\")\n",
    "\n",
    "print(type(mtint))"
   ]
  },
  {
   "cell_type": "code",
   "execution_count": 62,
   "id": "20a4bafe",
   "metadata": {},
   "outputs": [
    {
     "name": "stdout",
     "output_type": "stream",
     "text": [
      "[ 1.4       3.6      -5.1       9.42      4.999999]\n",
      "-------\n",
      "[ 1  3 -5  9  4]\n"
     ]
    }
   ],
   "source": [
    "#Mudar o tipo do array\n",
    "#Podemos transformar tipos de dados de arrays\n",
    "mtnew = np.array([1.4, 3.6, -5.1, 9.42, 4.999999])\n",
    "print (mtnew)\n",
    "\n",
    "print(\"-------\")\n",
    "\n",
    "#Quando transformamos de float para int os valores são truncados\n",
    "mtnewint = mtnew.astype(np.int32)\n",
    "print(mtnewint)"
   ]
  },
  {
   "cell_type": "code",
   "execution_count": 63,
   "id": "5e6b9c49",
   "metadata": {},
   "outputs": [
    {
     "name": "stdout",
     "output_type": "stream",
     "text": [
      "[1 2 3 4]\n",
      "-------\n",
      "[1. 2. 3. 4.]\n"
     ]
    }
   ],
   "source": [
    "#Podemos fazer o inverso também\n",
    "mt5 = np.array([1, 2, 3, 4])\n",
    "print (mt5)\n",
    "\n",
    "print(\"-------\")\n",
    "\n",
    "mt6 = mt5.astype(float)\n",
    "print(mt6)"
   ]
  },
  {
   "cell_type": "code",
   "execution_count": 64,
   "id": "8e35c5b4",
   "metadata": {},
   "outputs": [
    {
     "name": "stdout",
     "output_type": "stream",
     "text": [
      "[[ 7  2 23]\n",
      " [12 27  4]\n",
      " [ 5 34 23]]\n"
     ]
    }
   ],
   "source": [
    "#Mais de uma dimensão\n",
    "#Cria uma matriz bidimensional\n",
    "mt7 = np.array([[7,2,23],[12,27,4],[5,34,23]])\n",
    "print (mt7)"
   ]
  },
  {
   "cell_type": "code",
   "execution_count": 65,
   "id": "51c2fd97",
   "metadata": {},
   "outputs": [
    {
     "name": "stdout",
     "output_type": "stream",
     "text": [
      "[[         0 1072693248]\n",
      " [         0 1073741824]\n",
      " [         0 1074266112]]\n",
      "-------\n",
      "[[0. 0. 0.]\n",
      " [0. 0. 0.]\n",
      " [0. 0. 0.]\n",
      " [0. 0. 0.]]\n",
      "-------\n",
      "[[1. 1. 1. 1. 1. 1. 1.]\n",
      " [1. 1. 1. 1. 1. 1. 1.]\n",
      " [1. 1. 1. 1. 1. 1. 1.]\n",
      " [1. 1. 1. 1. 1. 1. 1.]\n",
      " [1. 1. 1. 1. 1. 1. 1.]]\n",
      "-------\n",
      "[[1. 0. 0. 0. 0.]\n",
      " [0. 1. 0. 0. 0.]\n",
      " [0. 0. 1. 0. 0.]\n",
      " [0. 0. 0. 1. 0.]\n",
      " [0. 0. 0. 0. 1.]]\n"
     ]
    }
   ],
   "source": [
    "#criar arrays vazios tipificados\n",
    "#Empty significa que não são inicializados, não que são vazios\n",
    "vazio = np.empty([3,2], dtype = int)\n",
    "print(vazio)\n",
    "\n",
    "print(\"-------\")\n",
    "\n",
    "#Criar uma matriz 4x3 com valores zero\n",
    "zeros = np.zeros([4,3])\n",
    "print(zeros)\n",
    "\n",
    "print(\"-------\")\n",
    "\n",
    "#com valores igual a um\n",
    "um = np.ones([5,7])\n",
    "print(um)\n",
    "\n",
    "print(\"-------\")\n",
    "\n",
    "#Criar matriz quadrada com diagonal principal com valores 1 e os outros valores zero\n",
    "diagonal = np.eye(5)\n",
    "print(diagonal)"
   ]
  },
  {
   "cell_type": "code",
   "execution_count": 66,
   "id": "afac98d1",
   "metadata": {},
   "outputs": [
    {
     "name": "stdout",
     "output_type": "stream",
     "text": [
      "[0.88473409 0.51561318 0.22050679 0.66165546 0.45474746]\n",
      "-------\n",
      "[-1.68044216 -1.85761866 -0.93217657 -1.99668736 -0.10042957]\n",
      "-------\n",
      "[[3.38779293 1.72823236 2.07579445 8.16138135]\n",
      " [3.23449962 3.46154686 6.90512917 7.97339234]\n",
      " [7.2037644  8.59414782 5.58332212 8.13517288]]\n"
     ]
    }
   ],
   "source": [
    "#Valores aleatórios entre zero e um\n",
    "ale = np.random.random((5))\n",
    "print(ale)\n",
    "\n",
    "print(\"-------\")\n",
    "\n",
    "#Valores aleatórios distr. normal contendo negativos\n",
    "ale2 = np.random.randn((5))\n",
    "print(ale2)\n",
    "\n",
    "print(\"-------\")\n",
    "\n",
    "#Valores aleatórios 3x4\n",
    "ale3 = (10*np.random.random((3,4)))\n",
    "print(ale3)"
   ]
  },
  {
   "cell_type": "code",
   "execution_count": 67,
   "id": "8611e78c",
   "metadata": {},
   "outputs": [
    {
     "name": "stdout",
     "output_type": "stream",
     "text": [
      "[0.51182162 0.9504637  0.14415961]\n"
     ]
    }
   ],
   "source": [
    "#Outra forma de gerar aleatórios\n",
    "#Uso de semente\n",
    "gnr = np.random.default_rng(1)\n",
    "ale5 = gnr.random(3)\n",
    "print(ale5)"
   ]
  },
  {
   "cell_type": "code",
   "execution_count": 68,
   "id": "a9286326",
   "metadata": {},
   "outputs": [
    {
     "name": "stdout",
     "output_type": "stream",
     "text": [
      "[[8 9 2 3]\n",
      " [8 4 2 8]\n",
      " [2 4 6 5]]\n"
     ]
    }
   ],
   "source": [
    "#Gerar inteiros\n",
    "ale6 = gnr.integers(10, size=(3, 4))\n",
    "print(ale6)"
   ]
  },
  {
   "cell_type": "code",
   "execution_count": 69,
   "id": "f59f31e1",
   "metadata": {},
   "outputs": [
    {
     "name": "stdout",
     "output_type": "stream",
     "text": [
      "[11 12 13 14 15 16 17 18 19 20]\n"
     ]
    }
   ],
   "source": [
    "#Unique remove repetições\n",
    "j = np.array([11, 12, 13, 14, 15, 16, 17, 12, 13, 11, 18, 19, 20])\n",
    "j = np.unique(j)\n",
    "print(j)"
   ]
  },
  {
   "cell_type": "code",
   "execution_count": 70,
   "id": "1eccb1b9",
   "metadata": {},
   "outputs": [
    {
     "name": "stdout",
     "output_type": "stream",
     "text": [
      "[[17 22 43]\n",
      " [27 25 14]\n",
      " [15 24 32]]\n",
      "-------\n",
      "22\n",
      "-------\n",
      "(3, 3)\n"
     ]
    }
   ],
   "source": [
    "#Funções específicas\n",
    "#Criar a matriz bidimensional k\n",
    "k = np.array([[17,22,43], [27,25,14],[15,24,32]])\n",
    "\n",
    "#Mostrar a matriz k\n",
    "print(k)\n",
    "\n",
    "print(\"-------\")\n",
    "\n",
    "#Mostrar um elemento especifico da matriz k\n",
    "print(k[0][1])\n",
    "\n",
    "print(\"-------\")\n",
    "\n",
    "#Mostrar o tamanho das dimensões da matriz k\n",
    "print(k.shape)"
   ]
  },
  {
   "cell_type": "code",
   "execution_count": 71,
   "id": "1872dfcf",
   "metadata": {},
   "outputs": [
    {
     "name": "stdout",
     "output_type": "stream",
     "text": [
      "43\n",
      "-------\n",
      "14\n",
      "-------\n",
      "219\n",
      "-------\n",
      "24.333333333333332\n",
      "-------\n",
      "8.615231988880057\n"
     ]
    }
   ],
   "source": [
    "#Funções Matemáticas\n",
    "#Mostrar o maior valor da matriz k\n",
    "print(k.max())\n",
    "\n",
    "print(\"-------\")\n",
    "\n",
    "#Mostrar o menor valor da matriz k\n",
    "print(k.min())\n",
    "\n",
    "print(\"-------\")\n",
    "\n",
    "#Mostrar a soma dos valores da matriz k\n",
    "print((k.sum()))\n",
    "\n",
    "print(\"-------\")\n",
    "\n",
    "#Mostrar o valor da média dos valores da matriz k\n",
    "print(k.mean())\n",
    "\n",
    "print(\"-------\")\n",
    "\n",
    "#Mostrar o valor do desvio padrāo (standard deviation) dos valores da matiz k\n",
    "print(k.std())"
   ]
  },
  {
   "cell_type": "code",
   "execution_count": 72,
   "id": "947288d8",
   "metadata": {},
   "outputs": [
    {
     "name": "stdout",
     "output_type": "stream",
     "text": [
      "[1. 2. 3. 4. 5. 6.]\n",
      "-------\n",
      "[2.71828183e+00 5.45981500e+01 8.10308393e+03 8.88611052e+06\n",
      " 7.20048993e+10 4.31123155e+15]\n"
     ]
    }
   ],
   "source": [
    "#Funções universais, aplicadas a todos os elementos\n",
    "#Mostrar o valor da raiz quadrada de todos elementos\n",
    "k1 = np.array([1, 4, 9, 16, 25, 36])\n",
    "print(np.sqrt(k1))\n",
    "\n",
    "print(\"-------\")\n",
    "\n",
    "#Mostrar o valor do exponencial de todos elementos\n",
    "print(np.exp(k1))"
   ]
  },
  {
   "cell_type": "code",
   "execution_count": 73,
   "id": "a046cb44",
   "metadata": {},
   "outputs": [
    {
     "name": "stdout",
     "output_type": "stream",
     "text": [
      "2\n",
      "-------\n",
      "[1 2]\n",
      "-------\n",
      "[2 3 4 5 6]\n",
      "-------\n",
      "[4 5 6]\n"
     ]
    }
   ],
   "source": [
    "#extração de elementos\n",
    "m = np.array([1, 2, 3, 4, 5, 6])\n",
    "\n",
    "#Mostrar o elemento da posição 2\n",
    "print(m[1])\n",
    "\n",
    "print(\"-------\")\n",
    "\n",
    "#Mostrar o array criado a partir da posição 0, dois elementos\n",
    "print(m[0:2])\n",
    "\n",
    "print(\"-------\")\n",
    "\n",
    "#Mostrar o array criado a partir da 2ª posição\n",
    "#Até todo o restante do array\n",
    "print(m[1:])\n",
    "\n",
    "print (\"-------\")\n",
    "\n",
    "#Mostrar o array criado a partir da antepenúltima\n",
    "#Posição até o final\n",
    "print(m[-3:])"
   ]
  },
  {
   "cell_type": "code",
   "execution_count": 74,
   "id": "d9a2a272",
   "metadata": {},
   "outputs": [
    {
     "name": "stdout",
     "output_type": "stream",
     "text": [
      "[[4 5]\n",
      " [6 1]\n",
      " [7 4]]\n",
      "-------\n",
      "[4 5]\n",
      "-------\n",
      "[6 1]\n",
      "-------\n",
      "[7 4]\n",
      "-------\n",
      "[4 6 7]\n",
      "------\n",
      "[5 1 4]\n"
     ]
    }
   ],
   "source": [
    "#Extração de Linhas e colunas\n",
    "l = np.array([[4, 5], [6, 1], [7, 4]])\n",
    "print(l)\n",
    "\n",
    "print (\"-------\")\n",
    "\n",
    "#Primeira Linha, todas as colunas\n",
    "l_linha_1 = l[0, :]\n",
    "print(l_linha_1)\n",
    "\n",
    "print (\"-------\")\n",
    "\n",
    "#Segunda Linha\n",
    "l_linha_2 = l[1, :]\n",
    "print (l_linha_2)\n",
    "\n",
    "print(\"-------\")\n",
    "\n",
    "#Terceira Linha\n",
    "l_linha_3 = l[2, :]\n",
    "print(l_linha_3)\n",
    "\n",
    "print (\"-------\")\n",
    "\n",
    "#Todas as Linhas, primeira coluna\n",
    "l_coluna_1 = l[:, 0]\n",
    "print(l_coluna_1)\n",
    "\n",
    "print (\"------\")\n",
    "\n",
    "#todas as Linhas, segunda coluna\n",
    "l_coluna_2 = l[:, 1]\n",
    "print(l_coluna_2)"
   ]
  },
  {
   "cell_type": "code",
   "execution_count": 75,
   "id": "ed9df307",
   "metadata": {},
   "outputs": [
    {
     "name": "stdout",
     "output_type": "stream",
     "text": [
      "[[2 3]\n",
      " [4 5]]\n",
      "-------\n",
      "[[1 2]\n",
      " [3 4]]\n",
      "-------\n",
      "[[ 3  3]\n",
      " [ 5 41]\n",
      " [ 7  7]]\n"
     ]
    }
   ],
   "source": [
    "#Adição e multiplicação de matrizes\n",
    "n = np.array([[1, 2], [3, 4]])\n",
    "o = np.array([[1, 1], [1, 1]])\n",
    "res1 = n+o\n",
    "print(res1)\n",
    "\n",
    "print(\"-------\")\n",
    "                             \n",
    "res2 = n*o\n",
    "print(res2)\n",
    "\n",
    "print(\"-------\")\n",
    "\n",
    "P = np.array([[1, 2], [3, 40], [5, 6]])\n",
    "q = np.array([[2, 1]])\n",
    "print(P+q)"
   ]
  },
  {
   "cell_type": "code",
   "execution_count": 76,
   "id": "731ff818",
   "metadata": {},
   "outputs": [
    {
     "name": "stdout",
     "output_type": "stream",
     "text": [
      "[[ 0  1  2  3  4]\n",
      " [ 5  6  7  8  9]\n",
      " [10 11 12 13 14]]\n",
      "-------\n",
      "[[ 0  5 10]\n",
      " [ 1  6 11]\n",
      " [ 2  7 12]\n",
      " [ 3  8 13]\n",
      " [ 4  9 14]]\n"
     ]
    }
   ],
   "source": [
    "#Transposição, rearranja um conjunto de 15 elementos de 0 a 14\n",
    "#Em 3 Linhas e 5 colunas.\n",
    "f = np.arange(15).reshape((3, 5))\n",
    "\n",
    "#Mostrar a matrizes transposta entre Linha e coluna\n",
    "print(f)\n",
    "\n",
    "print(\"-------\")\n",
    "\n",
    "s = f.T\n",
    "print(s)\n"
   ]
  },
  {
   "cell_type": "code",
   "execution_count": 77,
   "id": "176f1014",
   "metadata": {},
   "outputs": [
    {
     "name": "stdout",
     "output_type": "stream",
     "text": [
      "[[ 0  1  2  3  4]\n",
      " [ 5  6  7  8  9]\n",
      " [10 11 12 13 14]]\n",
      "-------\n",
      "[[ 0  5 10]\n",
      " [ 1  6 11]\n",
      " [ 2  7 12]\n",
      " [ 3  8 13]\n",
      " [ 4  9 14]]\n"
     ]
    }
   ],
   "source": [
    "#Outra forma de fazer, mesmo resultado\n",
    "r = np.arange(15).reshape((3, 5))\n",
    "print(r)\n",
    "\n",
    "print(\"-------\")\n",
    "\n",
    "#Rearranjar um conjunto de 15 elementos\n",
    "#mostrar a matrizes transposta entre Linha e coluna\n",
    "s = r.transpose((1,0))\n",
    "print(s)"
   ]
  },
  {
   "cell_type": "code",
   "execution_count": 78,
   "id": "8d0e2f9a",
   "metadata": {},
   "outputs": [
    {
     "name": "stdout",
     "output_type": "stream",
     "text": [
      "[[-0.28669684  1.25178213 -0.35741336 -1.24895178]\n",
      " [-0.59783684  0.34981825 -1.60581235  0.2514662 ]\n",
      " [ 0.15506963  1.81607958  1.01576887  1.20986864]\n",
      " [-1.94535254  1.18637366 -0.69180733 -0.48060081]]\n",
      "-------\n",
      "[[False  True False False]\n",
      " [False  True False  True]\n",
      " [ True  True  True  True]\n",
      " [False  True False False]]\n",
      "-------\n",
      "[[-1  1 -1 -1]\n",
      " [-1  1 -1  1]\n",
      " [ 1  1  1  1]\n",
      " [-1  1 -1 -1]]\n"
     ]
    }
   ],
   "source": [
    "#Expressões lógicas\n",
    "#Usando where\n",
    "#Criando matriz com valores aleatórios positivos e negativas\n",
    "v = np.random.randn(4, 4)\n",
    "print(v)\n",
    "\n",
    "print(\"-------\")\n",
    "\n",
    "#Criando matriz com valores booleanos baseado no array v\n",
    "x = (v > 0)\n",
    "print(x)\n",
    "\n",
    "print(\"-------\")\n",
    "\n",
    "#Criando matriz com valores -1 e 1 baseado nos valores do array x\n",
    "z = np.where(x > 0, 1, -1)\n",
    "print(z)"
   ]
  }
 ],
 "metadata": {
  "kernelspec": {
   "display_name": "Python 3 (ipykernel)",
   "language": "python",
   "name": "python3"
  },
  "language_info": {
   "codemirror_mode": {
    "name": "ipython",
    "version": 3
   },
   "file_extension": ".py",
   "mimetype": "text/x-python",
   "name": "python",
   "nbconvert_exporter": "python",
   "pygments_lexer": "ipython3",
   "version": "3.9.13"
  }
 },
 "nbformat": 4,
 "nbformat_minor": 5
}
