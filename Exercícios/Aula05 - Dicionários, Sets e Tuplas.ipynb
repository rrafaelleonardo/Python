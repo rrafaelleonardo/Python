{
 "cells": [
  {
   "cell_type": "code",
   "execution_count": null,
   "id": "edd1b131",
   "metadata": {},
   "outputs": [],
   "source": [
    "DICIONÁRIOS"
   ]
  },
  {
   "cell_type": "code",
   "execution_count": 1,
   "id": "8206bcd4",
   "metadata": {},
   "outputs": [
    {
     "name": "stdout",
     "output_type": "stream",
     "text": [
      "{'João': 6.0, 'Maria': 8.0, 'Pedro': 6.5}\n"
     ]
    }
   ],
   "source": [
    "#dicionários: estrutura chave/valor\n",
    "#Dicionários usam {}\n",
    "Notas = {'João' : 6.0, 'Maria' : 8.0, 'Pedro': 6.5}\n",
    "print (Notas)"
   ]
  },
  {
   "cell_type": "code",
   "execution_count": 2,
   "id": "c5b199d4",
   "metadata": {},
   "outputs": [
    {
     "name": "stdout",
     "output_type": "stream",
     "text": [
      "6.0\n"
     ]
    }
   ],
   "source": [
    "print(Notas ['João'])"
   ]
  },
  {
   "cell_type": "code",
   "execution_count": 3,
   "id": "3c3900b1",
   "metadata": {},
   "outputs": [
    {
     "data": {
      "text/plain": [
       "dict_keys(['João', 'Maria', 'Pedro'])"
      ]
     },
     "execution_count": 3,
     "metadata": {},
     "output_type": "execute_result"
    }
   ],
   "source": [
    "#Toda as chaves\n",
    "Notas.keys()"
   ]
  },
  {
   "cell_type": "code",
   "execution_count": 4,
   "id": "7beca6dd",
   "metadata": {},
   "outputs": [
    {
     "data": {
      "text/plain": [
       "dict_values([6.0, 8.0, 6.5])"
      ]
     },
     "execution_count": 4,
     "metadata": {},
     "output_type": "execute_result"
    }
   ],
   "source": [
    "#Todos os valores\n",
    "Notas.values()"
   ]
  },
  {
   "cell_type": "code",
   "execution_count": 5,
   "id": "07c8e748",
   "metadata": {},
   "outputs": [
    {
     "name": "stdout",
     "output_type": "stream",
     "text": [
      "True\n",
      "False\n"
     ]
    }
   ],
   "source": [
    "#Testar logicamente a existência\n",
    "print('João' in Notas)\n",
    "print( 'Fernando' in Notas)"
   ]
  },
  {
   "cell_type": "code",
   "execution_count": 6,
   "id": "431395cf",
   "metadata": {},
   "outputs": [
    {
     "name": "stdout",
     "output_type": "stream",
     "text": [
      "{'Maria': 8.0, 'Pedro': 6.5}\n"
     ]
    }
   ],
   "source": [
    "#Apagar um elemento\n",
    "del Notas['João']\n",
    "print(Notas)"
   ]
  },
  {
   "cell_type": "code",
   "execution_count": 7,
   "id": "d3d9dae6",
   "metadata": {},
   "outputs": [
    {
     "name": "stdout",
     "output_type": "stream",
     "text": [
      "{'Maria': 8.0, 'Pedro': 6.5, 'Ana': 9}\n"
     ]
    }
   ],
   "source": [
    "#Incluir um elemento\n",
    "Notas['Ana'] = 9\n",
    "print(Notas)"
   ]
  },
  {
   "cell_type": "code",
   "execution_count": 9,
   "id": "7947f122",
   "metadata": {},
   "outputs": [
    {
     "data": {
      "text/plain": [
       "'Não encontrado!'"
      ]
     },
     "execution_count": 9,
     "metadata": {},
     "output_type": "execute_result"
    }
   ],
   "source": [
    "#Buscar um valor, se não encontrar mostra segundo parametro\n",
    "Notas.get(\"Geraldo\", \"Não encontrado!\")"
   ]
  },
  {
   "cell_type": "markdown",
   "id": "983ae750",
   "metadata": {},
   "source": [
    "SETS"
   ]
  },
  {
   "cell_type": "code",
   "execution_count": 10,
   "id": "606ed1c0",
   "metadata": {},
   "outputs": [
    {
     "name": "stdout",
     "output_type": "stream",
     "text": [
      "{'Spark', 'Sqoop', 'Hive'}\n"
     ]
    }
   ],
   "source": [
    "#Sets são conjuntos não ordenados de elementos não repetidos\n",
    "#Sets usam {}\n",
    "bigdata = {'Spark', 'Hive', 'Sqoop'}\n",
    "print(bigdata)"
   ]
  },
  {
   "cell_type": "code",
   "execution_count": 11,
   "id": "ea509fe3",
   "metadata": {},
   "outputs": [
    {
     "name": "stdout",
     "output_type": "stream",
     "text": [
      "True\n"
     ]
    }
   ],
   "source": [
    "#Verifica existência\n",
    "print('Spark' in bigdata)"
   ]
  },
  {
   "cell_type": "code",
   "execution_count": 12,
   "id": "b9c5bc5f",
   "metadata": {},
   "outputs": [
    {
     "data": {
      "text/plain": [
       "{'Hadoop', 'Hive', 'Spark', 'Sqoop'}"
      ]
     },
     "execution_count": 12,
     "metadata": {},
     "output_type": "execute_result"
    }
   ],
   "source": [
    "#Adiciona elemento\n",
    "bigdata.add('Hadoop')\n",
    "bigdata"
   ]
  },
  {
   "cell_type": "code",
   "execution_count": 13,
   "id": "c29d7404",
   "metadata": {},
   "outputs": [
    {
     "name": "stdout",
     "output_type": "stream",
     "text": [
      "4\n"
     ]
    }
   ],
   "source": [
    "#Número de elementos\n",
    "print(len(bigdata))"
   ]
  },
  {
   "cell_type": "code",
   "execution_count": 14,
   "id": "0ffdd6fa",
   "metadata": {},
   "outputs": [
    {
     "data": {
      "text/plain": [
       "{'Hadoop', 'Hive', 'Spark', 'Sqoop'}"
      ]
     },
     "execution_count": 14,
     "metadata": {},
     "output_type": "execute_result"
    }
   ],
   "source": [
    "bigdata.add(\"Spark\")\n",
    "bigdata"
   ]
  },
  {
   "cell_type": "code",
   "execution_count": null,
   "id": "4f8cbe33",
   "metadata": {},
   "outputs": [],
   "source": [
    "TUPLAS"
   ]
  },
  {
   "cell_type": "code",
   "execution_count": 15,
   "id": "d7341dac",
   "metadata": {},
   "outputs": [
    {
     "data": {
      "text/plain": [
       "(1, 2, 3, 4, 5, 6, 7)"
      ]
     },
     "execution_count": 15,
     "metadata": {},
     "output_type": "execute_result"
    }
   ],
   "source": [
    "#Tuplas são listas que não podem ser alteradas\n",
    "#listas usam [], tuplas usam ()\n",
    "tupla = (1,2,3,4,5,6,7)\n",
    "tupla"
   ]
  },
  {
   "cell_type": "code",
   "execution_count": 16,
   "id": "e0023bd9",
   "metadata": {},
   "outputs": [
    {
     "data": {
      "text/plain": [
       "5"
      ]
     },
     "execution_count": 16,
     "metadata": {},
     "output_type": "execute_result"
    }
   ],
   "source": [
    "tupla[4]"
   ]
  },
  {
   "cell_type": "code",
   "execution_count": 17,
   "id": "1ccded89",
   "metadata": {},
   "outputs": [
    {
     "data": {
      "text/plain": [
       "{(0, 1): 0,\n",
       " (1, 2): 1,\n",
       " (2, 3): 2,\n",
       " (3, 4): 3,\n",
       " (4, 5): 4,\n",
       " (5, 6): 5,\n",
       " (6, 7): 6,\n",
       " (7, 8): 7,\n",
       " (8, 9): 8,\n",
       " (9, 10): 9}"
      ]
     },
     "execution_count": 17,
     "metadata": {},
     "output_type": "execute_result"
    }
   ],
   "source": [
    "#dicionários em que cada posição recebe uma tupla\n",
    "dic2 = {(0, 1): 0, (1, 2): 1, (2, 3): 2, (3, 4): 3, (4, 5): 4, (5, 6): 5, (6, 7): 6, (7, 8): 7, (8, 9): 8, (9, 10): 9}\n",
    "dic2"
   ]
  },
  {
   "cell_type": "code",
   "execution_count": 18,
   "id": "d8b45d35",
   "metadata": {},
   "outputs": [
    {
     "name": "stdout",
     "output_type": "stream",
     "text": [
      "<class 'dict'>\n",
      "<class 'set'>\n",
      "<class 'tuple'>\n"
     ]
    }
   ],
   "source": [
    "print(type(Notas))\n",
    "print(type(bigdata))\n",
    "print(type(tupla))"
   ]
  }
 ],
 "metadata": {
  "kernelspec": {
   "display_name": "begin-python",
   "language": "python",
   "name": "begin-python"
  },
  "language_info": {
   "codemirror_mode": {
    "name": "ipython",
    "version": 3
   },
   "file_extension": ".py",
   "mimetype": "text/x-python",
   "name": "python",
   "nbconvert_exporter": "python",
   "pygments_lexer": "ipython3",
   "version": "3.10.4"
  }
 },
 "nbformat": 4,
 "nbformat_minor": 5
}
